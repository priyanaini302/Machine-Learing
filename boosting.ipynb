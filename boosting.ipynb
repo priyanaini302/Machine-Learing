{
 "cells": [
  {
   "cell_type": "code",
   "execution_count": 1,
   "id": "79f598e7",
   "metadata": {},
   "outputs": [],
   "source": [
    "import pandas as pd"
   ]
  },
  {
   "cell_type": "code",
   "execution_count": 2,
   "id": "73ce63e9",
   "metadata": {},
   "outputs": [],
   "source": [
    "dataset=pd.read_csv('insurance_pre.csv')"
   ]
  },
  {
   "cell_type": "code",
   "execution_count": 3,
   "id": "b80f06b5",
   "metadata": {},
   "outputs": [
    {
     "data": {
      "text/html": [
       "<div>\n",
       "<style scoped>\n",
       "    .dataframe tbody tr th:only-of-type {\n",
       "        vertical-align: middle;\n",
       "    }\n",
       "\n",
       "    .dataframe tbody tr th {\n",
       "        vertical-align: top;\n",
       "    }\n",
       "\n",
       "    .dataframe thead th {\n",
       "        text-align: right;\n",
       "    }\n",
       "</style>\n",
       "<table border=\"1\" class=\"dataframe\">\n",
       "  <thead>\n",
       "    <tr style=\"text-align: right;\">\n",
       "      <th></th>\n",
       "      <th>age</th>\n",
       "      <th>sex</th>\n",
       "      <th>bmi</th>\n",
       "      <th>children</th>\n",
       "      <th>smoker</th>\n",
       "      <th>charges</th>\n",
       "    </tr>\n",
       "  </thead>\n",
       "  <tbody>\n",
       "    <tr>\n",
       "      <th>0</th>\n",
       "      <td>19</td>\n",
       "      <td>female</td>\n",
       "      <td>27.900</td>\n",
       "      <td>0</td>\n",
       "      <td>yes</td>\n",
       "      <td>16884.92400</td>\n",
       "    </tr>\n",
       "    <tr>\n",
       "      <th>1</th>\n",
       "      <td>18</td>\n",
       "      <td>male</td>\n",
       "      <td>33.770</td>\n",
       "      <td>1</td>\n",
       "      <td>no</td>\n",
       "      <td>1725.55230</td>\n",
       "    </tr>\n",
       "    <tr>\n",
       "      <th>2</th>\n",
       "      <td>28</td>\n",
       "      <td>male</td>\n",
       "      <td>33.000</td>\n",
       "      <td>3</td>\n",
       "      <td>no</td>\n",
       "      <td>4449.46200</td>\n",
       "    </tr>\n",
       "    <tr>\n",
       "      <th>3</th>\n",
       "      <td>33</td>\n",
       "      <td>male</td>\n",
       "      <td>22.705</td>\n",
       "      <td>0</td>\n",
       "      <td>no</td>\n",
       "      <td>21984.47061</td>\n",
       "    </tr>\n",
       "    <tr>\n",
       "      <th>4</th>\n",
       "      <td>32</td>\n",
       "      <td>male</td>\n",
       "      <td>28.880</td>\n",
       "      <td>0</td>\n",
       "      <td>no</td>\n",
       "      <td>3866.85520</td>\n",
       "    </tr>\n",
       "    <tr>\n",
       "      <th>...</th>\n",
       "      <td>...</td>\n",
       "      <td>...</td>\n",
       "      <td>...</td>\n",
       "      <td>...</td>\n",
       "      <td>...</td>\n",
       "      <td>...</td>\n",
       "    </tr>\n",
       "    <tr>\n",
       "      <th>1333</th>\n",
       "      <td>50</td>\n",
       "      <td>male</td>\n",
       "      <td>30.970</td>\n",
       "      <td>3</td>\n",
       "      <td>no</td>\n",
       "      <td>10600.54830</td>\n",
       "    </tr>\n",
       "    <tr>\n",
       "      <th>1334</th>\n",
       "      <td>18</td>\n",
       "      <td>female</td>\n",
       "      <td>31.920</td>\n",
       "      <td>0</td>\n",
       "      <td>no</td>\n",
       "      <td>2205.98080</td>\n",
       "    </tr>\n",
       "    <tr>\n",
       "      <th>1335</th>\n",
       "      <td>18</td>\n",
       "      <td>female</td>\n",
       "      <td>36.850</td>\n",
       "      <td>0</td>\n",
       "      <td>no</td>\n",
       "      <td>1629.83350</td>\n",
       "    </tr>\n",
       "    <tr>\n",
       "      <th>1336</th>\n",
       "      <td>21</td>\n",
       "      <td>female</td>\n",
       "      <td>25.800</td>\n",
       "      <td>0</td>\n",
       "      <td>no</td>\n",
       "      <td>2007.94500</td>\n",
       "    </tr>\n",
       "    <tr>\n",
       "      <th>1337</th>\n",
       "      <td>61</td>\n",
       "      <td>female</td>\n",
       "      <td>29.070</td>\n",
       "      <td>0</td>\n",
       "      <td>yes</td>\n",
       "      <td>29141.36030</td>\n",
       "    </tr>\n",
       "  </tbody>\n",
       "</table>\n",
       "<p>1338 rows × 6 columns</p>\n",
       "</div>"
      ],
      "text/plain": [
       "      age     sex     bmi  children smoker      charges\n",
       "0      19  female  27.900         0    yes  16884.92400\n",
       "1      18    male  33.770         1     no   1725.55230\n",
       "2      28    male  33.000         3     no   4449.46200\n",
       "3      33    male  22.705         0     no  21984.47061\n",
       "4      32    male  28.880         0     no   3866.85520\n",
       "...   ...     ...     ...       ...    ...          ...\n",
       "1333   50    male  30.970         3     no  10600.54830\n",
       "1334   18  female  31.920         0     no   2205.98080\n",
       "1335   18  female  36.850         0     no   1629.83350\n",
       "1336   21  female  25.800         0     no   2007.94500\n",
       "1337   61  female  29.070         0    yes  29141.36030\n",
       "\n",
       "[1338 rows x 6 columns]"
      ]
     },
     "execution_count": 3,
     "metadata": {},
     "output_type": "execute_result"
    }
   ],
   "source": [
    "dataset"
   ]
  },
  {
   "cell_type": "code",
   "execution_count": 4,
   "id": "8ffff19b",
   "metadata": {},
   "outputs": [],
   "source": [
    "dataset=pd.get_dummies(dataset,drop_first=True)"
   ]
  },
  {
   "cell_type": "code",
   "execution_count": 5,
   "id": "db65a2cc",
   "metadata": {},
   "outputs": [
    {
     "data": {
      "text/plain": [
       "Index(['age', 'bmi', 'children', 'charges', 'sex_male', 'smoker_yes'], dtype='object')"
      ]
     },
     "execution_count": 5,
     "metadata": {},
     "output_type": "execute_result"
    }
   ],
   "source": [
    "dataset.columns"
   ]
  },
  {
   "cell_type": "code",
   "execution_count": 6,
   "id": "dd11bbd0",
   "metadata": {},
   "outputs": [],
   "source": [
    "ind=dataset[['age', 'bmi', 'children', 'sex_male', 'smoker_yes']]"
   ]
  },
  {
   "cell_type": "code",
   "execution_count": 7,
   "id": "0fcfc590",
   "metadata": {},
   "outputs": [],
   "source": [
    "dep=dataset[['charges']]"
   ]
  },
  {
   "cell_type": "code",
   "execution_count": 8,
   "id": "c0c24353",
   "metadata": {},
   "outputs": [],
   "source": [
    "def train(ind,dep):\n",
    "    from sklearn.model_selection import train_test_split\n",
    "    X_train,X_test,y_train,y_test=train_test_split(ind,dep,test_size=0.30,random_state=0)\n",
    "    return X_train,X_test,y_train,y_test"
   ]
  },
  {
   "cell_type": "code",
   "execution_count": 9,
   "id": "c99d7b8c",
   "metadata": {},
   "outputs": [],
   "source": [
    "def r2(regressor,X_test,y_test):\n",
    "    from sklearn.metrics import r2_score\n",
    "    y_pred=regressor.predict(X_test)\n",
    "    r2value=r2_score(y_test,y_pred)\n",
    "    return r2value"
   ]
  },
  {
   "cell_type": "code",
   "execution_count": 10,
   "id": "d6db7429",
   "metadata": {},
   "outputs": [],
   "source": [
    "def adaboosting(X_train,X_test,y_train):\n",
    "    from sklearn.ensemble import AdaBoostRegressor\n",
    "    regressor=AdaBoostRegressor(random_state=0, n_estimators=100)\n",
    "    regressor.fit(X_train,y_train)\n",
    "    rscore=r2(regressor,X_test,y_test)\n",
    "    return rscore"
   ]
  },
  {
   "cell_type": "code",
   "execution_count": 11,
   "id": "dcb42522",
   "metadata": {},
   "outputs": [],
   "source": [
    "def lgboosting(X_train,X_test,y_train):\n",
    "    from sklearn.ensemble import GradientBoostingRegressor\n",
    "    regressor=GradientBoostingRegressor(n_estimators=100, learning_rate=0.1, max_depth=3, min_samples_split=2, min_samples_leaf=1)\n",
    "    regressor.fit(X_train,y_train)\n",
    "    rscore=r2(regressor,X_test,y_test)\n",
    "    return rscore"
   ]
  },
  {
   "cell_type": "code",
   "execution_count": 12,
   "id": "7848b761",
   "metadata": {},
   "outputs": [],
   "source": [
    "def xgboosting(X_train,X_test,y_train):\n",
    "    import xgboost as xgb\n",
    "    regressor=xgb.XGBRegressor()\n",
    "    regressor.fit(X_train,y_train)\n",
    "    rscore=r2(regressor,X_test,y_test)\n",
    "    return rscore"
   ]
  },
  {
   "cell_type": "code",
   "execution_count": 13,
   "id": "aa12e99d",
   "metadata": {},
   "outputs": [],
   "source": [
    "X_train,X_test,y_train,y_test=train(ind,dep)"
   ]
  },
  {
   "cell_type": "code",
   "execution_count": 14,
   "id": "d204ac9c",
   "metadata": {},
   "outputs": [
    {
     "name": "stderr",
     "output_type": "stream",
     "text": [
      "C:\\Users\\Priya\\anaconda3\\envs\\ml\\lib\\site-packages\\sklearn\\utils\\validation.py:724: DataConversionWarning: A column-vector y was passed when a 1d array was expected. Please change the shape of y to (n_samples, ), for example using ravel().\n",
      "  y = column_or_1d(y, warn=True)\n"
     ]
    }
   ],
   "source": [
    "adaboosting=adaboosting(X_train,X_test,y_train)"
   ]
  },
  {
   "cell_type": "code",
   "execution_count": 16,
   "id": "694c4d23",
   "metadata": {},
   "outputs": [
    {
     "data": {
      "text/plain": [
       "0.8447476929154872"
      ]
     },
     "execution_count": 16,
     "metadata": {},
     "output_type": "execute_result"
    }
   ],
   "source": [
    "adaboosting"
   ]
  },
  {
   "cell_type": "code",
   "execution_count": 17,
   "id": "e39fdf31",
   "metadata": {},
   "outputs": [
    {
     "name": "stderr",
     "output_type": "stream",
     "text": [
      "C:\\Users\\Priya\\anaconda3\\envs\\ml\\lib\\site-packages\\sklearn\\ensemble\\gradient_boosting.py:1450: DataConversionWarning: A column-vector y was passed when a 1d array was expected. Please change the shape of y to (n_samples, ), for example using ravel().\n",
      "  y = column_or_1d(y, warn=True)\n"
     ]
    }
   ],
   "source": [
    "lgboosting=lgboosting(X_train,X_test,y_train)"
   ]
  },
  {
   "cell_type": "code",
   "execution_count": 18,
   "id": "4f4171d5",
   "metadata": {},
   "outputs": [
    {
     "data": {
      "text/plain": [
       "0.883875208575448"
      ]
     },
     "execution_count": 18,
     "metadata": {},
     "output_type": "execute_result"
    }
   ],
   "source": [
    "lgboosting"
   ]
  },
  {
   "cell_type": "code",
   "execution_count": 19,
   "id": "0ca26296",
   "metadata": {},
   "outputs": [],
   "source": [
    "xgboosting=xgboosting(X_train,X_test,y_train)"
   ]
  },
  {
   "cell_type": "code",
   "execution_count": 20,
   "id": "08474d48",
   "metadata": {},
   "outputs": [
    {
     "data": {
      "text/plain": [
       "0.8257765248999531"
      ]
     },
     "execution_count": 20,
     "metadata": {},
     "output_type": "execute_result"
    }
   ],
   "source": [
    "xgboosting"
   ]
  },
  {
   "cell_type": "code",
   "execution_count": null,
   "id": "9408d872",
   "metadata": {},
   "outputs": [],
   "source": []
  }
 ],
 "metadata": {
  "kernelspec": {
   "display_name": "Python 3 (ipykernel)",
   "language": "python",
   "name": "python3"
  },
  "language_info": {
   "codemirror_mode": {
    "name": "ipython",
    "version": 3
   },
   "file_extension": ".py",
   "mimetype": "text/x-python",
   "name": "python",
   "nbconvert_exporter": "python",
   "pygments_lexer": "ipython3",
   "version": "3.7.6"
  }
 },
 "nbformat": 4,
 "nbformat_minor": 5
}
